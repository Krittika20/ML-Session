{
 "cells": [
  {
   "cell_type": "markdown",
   "metadata": {},
   "source": [
    "### Perform ‘ Data Analysis’ on dataset ‘Indian Premier League’.\n",
    "#### As a sports analyst, find out the Different type of  Possible Analysis you able to make.\n",
    "##### like most successful teams, players and factors contributing win or loss of a team etc."
   ]
  },
  {
   "cell_type": "markdown",
   "metadata": {},
   "source": [
    "Link to Datasets :- https://www.kaggle.com/nowke9/ipldata"
   ]
  },
  {
   "cell_type": "markdown",
   "metadata": {},
   "source": [
    "#### DON'T COPY FROM PUBLIC NOTEBOOK PRESENT IN KAGGLE \n",
    "#### You Have to Define You'r Own Method\n",
    "\n",
    "###### Example :-"
   ]
  },
  {
   "cell_type": "markdown",
   "metadata": {},
   "source": [
    "#### Year In Which Ipl is played"
   ]
  },
  {
   "cell_type": "markdown",
   "metadata": {},
   "source": [
    "matches.season.unique()"
   ]
  },
  {
   "cell_type": "code",
   "execution_count": null,
   "metadata": {},
   "outputs": [],
   "source": [
    "def Season():\n",
    "    season = []\n",
    "    for i in matches.season.values:\n",
    "        season.append(i)\n",
    "    return set(season)\n",
    "Season()"
   ]
  }
 ],
 "metadata": {
  "kernelspec": {
   "display_name": "Python 3",
   "language": "python",
   "name": "python3"
  },
  "language_info": {
   "codemirror_mode": {
    "name": "ipython",
    "version": 3
   },
   "file_extension": ".py",
   "mimetype": "text/x-python",
   "name": "python",
   "nbconvert_exporter": "python",
   "pygments_lexer": "ipython3",
   "version": "3.8.5"
  }
 },
 "nbformat": 4,
 "nbformat_minor": 4
}
