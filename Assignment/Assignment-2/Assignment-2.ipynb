{
 "cells": [
  {
   "cell_type": "code",
   "execution_count": 1,
   "metadata": {},
   "outputs": [],
   "source": [
    "import pandas as pd"
   ]
  },
  {
   "cell_type": "code",
   "execution_count": 3,
   "metadata": {},
   "outputs": [
    {
     "data": {
      "text/html": [
       "<div>\n",
       "<style scoped>\n",
       "    .dataframe tbody tr th:only-of-type {\n",
       "        vertical-align: middle;\n",
       "    }\n",
       "\n",
       "    .dataframe tbody tr th {\n",
       "        vertical-align: top;\n",
       "    }\n",
       "\n",
       "    .dataframe thead th {\n",
       "        text-align: right;\n",
       "    }\n",
       "</style>\n",
       "<table border=\"1\" class=\"dataframe\">\n",
       "  <thead>\n",
       "    <tr style=\"text-align: right;\">\n",
       "      <th></th>\n",
       "      <th>Package Type</th>\n",
       "      <th>Destination</th>\n",
       "      <th>Itinerary</th>\n",
       "      <th>Travel Date</th>\n",
       "      <th>Start City</th>\n",
       "      <th>Airline</th>\n",
       "      <th>Flight Stops</th>\n",
       "      <th>Meals</th>\n",
       "    </tr>\n",
       "  </thead>\n",
       "  <tbody>\n",
       "    <tr>\n",
       "      <th>0</th>\n",
       "      <td>Standard</td>\n",
       "      <td>New Delhi|Shimla|Manali|Chandigarh</td>\n",
       "      <td>1N New Delhi . 2N Shimla . 2N Manali . 1N Chan...</td>\n",
       "      <td>30-07-2021</td>\n",
       "      <td>Mumbai</td>\n",
       "      <td>Not Available</td>\n",
       "      <td>2</td>\n",
       "      <td>3</td>\n",
       "    </tr>\n",
       "    <tr>\n",
       "      <th>1</th>\n",
       "      <td>Premium</td>\n",
       "      <td>Srinagar|Pahalgam|Srinagar</td>\n",
       "      <td>1N Srinagar . 2N Pahalgam . 1N Srinagar</td>\n",
       "      <td>8/12/2021</td>\n",
       "      <td>New Delhi</td>\n",
       "      <td>IndiGo|IndiGo</td>\n",
       "      <td>0</td>\n",
       "      <td>5</td>\n",
       "    </tr>\n",
       "    <tr>\n",
       "      <th>2</th>\n",
       "      <td>Luxury</td>\n",
       "      <td>Udaipur|Chittorgarh</td>\n",
       "      <td>2N Udaipur . 1N Chittorgarh</td>\n",
       "      <td>26-04-2021</td>\n",
       "      <td>New Delhi</td>\n",
       "      <td>IndiGo</td>\n",
       "      <td>0</td>\n",
       "      <td>4</td>\n",
       "    </tr>\n",
       "    <tr>\n",
       "      <th>3</th>\n",
       "      <td>Premium</td>\n",
       "      <td>Munnar|Kumarakom|Allepey|Kovalam and Poovar</td>\n",
       "      <td>2N Munnar . 1N Kumarakom . 1N Allepey . 2N Kov...</td>\n",
       "      <td>27-08-2021</td>\n",
       "      <td>New Delhi</td>\n",
       "      <td>IndiGo</td>\n",
       "      <td>0</td>\n",
       "      <td>5</td>\n",
       "    </tr>\n",
       "    <tr>\n",
       "      <th>4</th>\n",
       "      <td>Premium</td>\n",
       "      <td>Pattaya|Bangkok</td>\n",
       "      <td>4N Pattaya . 3N Bangkok</td>\n",
       "      <td>12/12/2021</td>\n",
       "      <td>New Delhi</td>\n",
       "      <td>Spicejet|Go Air</td>\n",
       "      <td>0</td>\n",
       "      <td>5</td>\n",
       "    </tr>\n",
       "  </tbody>\n",
       "</table>\n",
       "</div>"
      ],
      "text/plain": [
       "  Package Type                                  Destination  \\\n",
       "0     Standard           New Delhi|Shimla|Manali|Chandigarh   \n",
       "1      Premium                   Srinagar|Pahalgam|Srinagar   \n",
       "2       Luxury                          Udaipur|Chittorgarh   \n",
       "3      Premium  Munnar|Kumarakom|Allepey|Kovalam and Poovar   \n",
       "4      Premium                              Pattaya|Bangkok   \n",
       "\n",
       "                                           Itinerary Travel Date Start City  \\\n",
       "0  1N New Delhi . 2N Shimla . 2N Manali . 1N Chan...  30-07-2021     Mumbai   \n",
       "1            1N Srinagar . 2N Pahalgam . 1N Srinagar   8/12/2021  New Delhi   \n",
       "2                        2N Udaipur . 1N Chittorgarh  26-04-2021  New Delhi   \n",
       "3  2N Munnar . 1N Kumarakom . 1N Allepey . 2N Kov...  27-08-2021  New Delhi   \n",
       "4                            4N Pattaya . 3N Bangkok  12/12/2021  New Delhi   \n",
       "\n",
       "           Airline  Flight Stops  Meals  \n",
       "0    Not Available             2      3  \n",
       "1    IndiGo|IndiGo             0      5  \n",
       "2           IndiGo             0      4  \n",
       "3           IndiGo             0      5  \n",
       "4  Spicejet|Go Air             0      5  "
      ]
     },
     "execution_count": 3,
     "metadata": {},
     "output_type": "execute_result"
    }
   ],
   "source": [
    "pd = pd.read_csv('../data/Train.csv')\n",
    "pd.head()"
   ]
  },
  {
   "cell_type": "markdown",
   "metadata": {},
   "source": [
    "### TransForm These data Into Trainable Data\n",
    "#### Apply pre processing techniques\n",
    "##### Here None of The Features Are Co-Related So, Don't Drop any of the Features"
   ]
  },
  {
   "cell_type": "code",
   "execution_count": null,
   "metadata": {},
   "outputs": [],
   "source": []
  }
 ],
 "metadata": {
  "kernelspec": {
   "display_name": "Python 3",
   "language": "python",
   "name": "python3"
  },
  "language_info": {
   "codemirror_mode": {
    "name": "ipython",
    "version": 3
   },
   "file_extension": ".py",
   "mimetype": "text/x-python",
   "name": "python",
   "nbconvert_exporter": "python",
   "pygments_lexer": "ipython3",
   "version": "3.8.5"
  }
 },
 "nbformat": 4,
 "nbformat_minor": 4
}
